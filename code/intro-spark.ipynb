{
 "cells": [
  {
   "cell_type": "code",
   "execution_count": 2,
   "id": "featured-burden",
   "metadata": {},
   "outputs": [
    {
     "name": "stdout",
     "output_type": "stream",
     "text": [
      "--2022-10-03 16:07:54--  https://archive.org/download/stackexchange/ai.stackexchange.com.7z/Posts.xml\n",
      "Resolving archive.org (archive.org)... 207.241.224.2\n",
      "Connecting to archive.org (archive.org)|207.241.224.2|:443... connected.\n",
      "HTTP request sent, awaiting response... 302 Found\n",
      "Location: https://ia600107.us.archive.org/view_archive.php?archive=/27/items/stackexchange/ai.stackexchange.com.7z&file=Posts.xml [following]\n",
      "--2022-10-03 16:07:55--  https://ia600107.us.archive.org/view_archive.php?archive=/27/items/stackexchange/ai.stackexchange.com.7z&file=Posts.xml\n",
      "Resolving ia600107.us.archive.org (ia600107.us.archive.org)... 207.241.227.247\n",
      "Connecting to ia600107.us.archive.org (ia600107.us.archive.org)|207.241.227.247|:443... connected.\n",
      "HTTP request sent, awaiting response... 200 OK\n",
      "Length: unspecified [text/xml]\n",
      "Saving to: ‘data/Posts.xml’\n",
      "\n",
      "Posts.xml               [    <=>             ]  37.79M  3.27MB/s    in 8.9s    \n",
      "\n",
      "2022-10-03 16:08:04 (4.27 MB/s) - ‘data/Posts.xml’ saved [39630077]\n",
      "\n"
     ]
    }
   ],
   "source": [
    "# !wget -nc -P data/ https://archive.org/download/stackexchange/ai.stackexchange.com.7z/Posts.xml"
   ]
  },
  {
   "cell_type": "code",
   "execution_count": 1,
   "id": "infinite-frequency",
   "metadata": {},
   "outputs": [],
   "source": [
    "import pyspark as ps"
   ]
  },
  {
   "cell_type": "code",
   "execution_count": 2,
   "id": "instructional-albert",
   "metadata": {},
   "outputs": [],
   "source": [
    "sc = ps.SparkContext()"
   ]
  },
  {
   "cell_type": "code",
   "execution_count": 3,
   "id": "overhead-anthropology",
   "metadata": {},
   "outputs": [
    {
     "data": {
      "text/plain": [
       "'local[*]'"
      ]
     },
     "execution_count": 3,
     "metadata": {},
     "output_type": "execute_result"
    }
   ],
   "source": [
    "sc.master"
   ]
  },
  {
   "cell_type": "code",
   "execution_count": 4,
   "id": "falling-peter",
   "metadata": {},
   "outputs": [
    {
     "data": {
      "text/html": [
       "\n",
       "        <div>\n",
       "            <p><b>SparkContext</b></p>\n",
       "\n",
       "            <p><a href=\"http://57be72246511:4041\">Spark UI</a></p>\n",
       "\n",
       "            <dl>\n",
       "              <dt>Version</dt>\n",
       "                <dd><code>v3.1.1</code></dd>\n",
       "              <dt>Master</dt>\n",
       "                <dd><code>local[*]</code></dd>\n",
       "              <dt>AppName</dt>\n",
       "                <dd><code>pyspark-shell</code></dd>\n",
       "            </dl>\n",
       "        </div>\n",
       "        "
      ],
      "text/plain": [
       "<SparkContext master=local[*] appName=pyspark-shell>"
      ]
     },
     "execution_count": 4,
     "metadata": {},
     "output_type": "execute_result"
    }
   ],
   "source": [
    "sc"
   ]
  },
  {
   "cell_type": "code",
   "execution_count": 5,
   "id": "crude-casting",
   "metadata": {},
   "outputs": [],
   "source": [
    "posts = sc.textFile('data/Posts.xml')"
   ]
  },
  {
   "cell_type": "code",
   "execution_count": 6,
   "id": "finite-agent",
   "metadata": {},
   "outputs": [
    {
     "data": {
      "text/plain": [
       "['<?xml version=\"1.0\" encoding=\"utf-8\"?>',\n",
       " '<posts>',\n",
       " '  <row Id=\"1\" PostTypeId=\"1\" AcceptedAnswerId=\"15\" CreationDate=\"2010-07-19T19:12:12.510\" Score=\"48\" ViewCount=\"4280\" Body=\"&lt;p&gt;How should I elicit prior distributions from experts when fitting a Bayesian model?&lt;/p&gt;&#xA;\" OwnerUserId=\"8\" LastActivityDate=\"2020-11-05T09:44:51.710\" Title=\"Eliciting priors from experts\" Tags=\"&lt;bayesian&gt;&lt;prior&gt;&lt;elicitation&gt;\" AnswerCount=\"6\" CommentCount=\"1\" FavoriteCount=\"32\" ContentLicense=\"CC BY-SA 2.5\" />',\n",
       " '  <row Id=\"2\" PostTypeId=\"1\" AcceptedAnswerId=\"59\" CreationDate=\"2010-07-19T19:12:57.157\" Score=\"34\" ViewCount=\"32048\" Body=\"&lt;p&gt;In many different statistical methods there is an &quot;assumption of normality&quot;.  What is &quot;normality&quot; and how do I know if there is normality?&lt;/p&gt;&#xA;\" OwnerUserId=\"24\" LastEditorDisplayName=\"user88\" LastEditDate=\"2010-08-07T17:56:44.800\" LastActivityDate=\"2017-11-22T12:15:07.030\" Title=\"What is normality?\" Tags=\"&lt;distributions&gt;&lt;normality-assumption&gt;\" AnswerCount=\"7\" CommentCount=\"1\" FavoriteCount=\"11\" ContentLicense=\"CC BY-SA 2.5\" />',\n",
       " '  <row Id=\"3\" PostTypeId=\"1\" AcceptedAnswerId=\"5\" CreationDate=\"2010-07-19T19:13:28.577\" Score=\"71\" ViewCount=\"6373\" Body=\"&lt;p&gt;What are some valuable Statistical Analysis open source projects available right now?&lt;/p&gt;&#xA;&#xA;&lt;p&gt;Edit: as pointed out by Sharpie, valuable could mean helping you get things done faster or more cheaply.&lt;/p&gt;&#xA;\" OwnerUserId=\"18\" LastEditorUserId=\"183\" LastEditDate=\"2011-02-12T05:50:03.667\" LastActivityDate=\"2013-05-27T14:48:36.927\" Title=\"What are some valuable Statistical Analysis open source projects?\" Tags=\"&lt;software&gt;&lt;open-source&gt;\" AnswerCount=\"19\" CommentCount=\"3\" FavoriteCount=\"39\" CommunityOwnedDate=\"2010-07-19T19:13:28.577\" ContentLicense=\"CC BY-SA 2.5\" />']"
      ]
     },
     "execution_count": 6,
     "metadata": {},
     "output_type": "execute_result"
    }
   ],
   "source": [
    "posts.take(5)"
   ]
  },
  {
   "cell_type": "code",
   "execution_count": 7,
   "id": "interior-courage",
   "metadata": {},
   "outputs": [],
   "source": [
    "import xml.etree.ElementTree as etree"
   ]
  },
  {
   "cell_type": "code",
   "execution_count": 8,
   "id": "naked-green",
   "metadata": {},
   "outputs": [],
   "source": [
    "element = etree.fromstring(posts.take(3)[2]) "
   ]
  },
  {
   "cell_type": "code",
   "execution_count": 9,
   "id": "engaging-complement",
   "metadata": {},
   "outputs": [
    {
     "data": {
      "text/plain": [
       "<Element 'row' at 0x7fa2c6b41d60>"
      ]
     },
     "execution_count": 9,
     "metadata": {},
     "output_type": "execute_result"
    }
   ],
   "source": [
    "element"
   ]
  },
  {
   "cell_type": "code",
   "execution_count": 10,
   "id": "aerial-medicare",
   "metadata": {},
   "outputs": [
    {
     "data": {
      "text/plain": [
       "[('Id', '1'),\n",
       " ('PostTypeId', '1'),\n",
       " ('AcceptedAnswerId', '15'),\n",
       " ('CreationDate', '2010-07-19T19:12:12.510'),\n",
       " ('Score', '48'),\n",
       " ('ViewCount', '4280'),\n",
       " ('Body',\n",
       "  '<p>How should I elicit prior distributions from experts when fitting a Bayesian model?</p>\\n'),\n",
       " ('OwnerUserId', '8'),\n",
       " ('LastActivityDate', '2020-11-05T09:44:51.710'),\n",
       " ('Title', 'Eliciting priors from experts'),\n",
       " ('Tags', '<bayesian><prior><elicitation>'),\n",
       " ('AnswerCount', '6'),\n",
       " ('CommentCount', '1'),\n",
       " ('FavoriteCount', '32'),\n",
       " ('ContentLicense', 'CC BY-SA 2.5')]"
      ]
     },
     "execution_count": 10,
     "metadata": {},
     "output_type": "execute_result"
    }
   ],
   "source": [
    "element.items()"
   ]
  },
  {
   "cell_type": "code",
   "execution_count": null,
   "id": "fifty-initial",
   "metadata": {},
   "outputs": [],
   "source": [
    "# filter valid row XML\n",
    "# convert data into proper types\n",
    "# convert RDD into DataFrame"
   ]
  },
  {
   "cell_type": "code",
   "execution_count": 11,
   "id": "together-telling",
   "metadata": {},
   "outputs": [],
   "source": [
    "def validate_post(xml):\n",
    "    try:\n",
    "        row = etree.fromstring(xml)\n",
    "        if row.get('Id'):\n",
    "            return True\n",
    "    except Exception as e:\n",
    "        print(e)\n",
    "        return False"
   ]
  },
  {
   "cell_type": "code",
   "execution_count": 12,
   "id": "loose-thong",
   "metadata": {
    "tags": []
   },
   "outputs": [
    {
     "data": {
      "text/plain": [
       "PythonRDD[4] at RDD at PythonRDD.scala:53"
      ]
     },
     "execution_count": 12,
     "metadata": {},
     "output_type": "execute_result"
    }
   ],
   "source": [
    "posts.filter(validate_post)"
   ]
  },
  {
   "cell_type": "code",
   "execution_count": 13,
   "id": "small-tiffany",
   "metadata": {},
   "outputs": [
    {
     "name": "stdout",
     "output_type": "stream",
     "text": [
      "CPU times: user 7 ms, sys: 17.3 ms, total: 24.3 ms\n",
      "Wall time: 12.5 s\n"
     ]
    },
    {
     "data": {
      "text/plain": [
       "340838"
      ]
     },
     "execution_count": 13,
     "metadata": {},
     "output_type": "execute_result"
    }
   ],
   "source": [
    "%%time\n",
    "posts.filter(validate_post).count()"
   ]
  },
  {
   "cell_type": "code",
   "execution_count": 15,
   "id": "forbidden-northern",
   "metadata": {},
   "outputs": [],
   "source": [
    "from datetime import datetime\n",
    "\n",
    "schema = {\n",
    "    'Id': int,\n",
    "    'PostTypeId': int,\n",
    "    'AcceptedAnswerId': int,\n",
    "    'CreationDate': datetime.fromisoformat,\n",
    "    'Score': int,\n",
    "    'ViewCount': int,\n",
    "    'Body': str,\n",
    "    'OwnerUserId': int,\n",
    "    'LastActivityDate': datetime.fromisoformat,\n",
    "    'Title': str,\n",
    "    'Tags': str,\n",
    "    'AnswerCount': int,\n",
    "    'CommentCount': int,\n",
    "    'FavoriteCount': int,\n",
    "    'ContentLicense': str\n",
    "}"
   ]
  },
  {
   "cell_type": "code",
   "execution_count": 16,
   "id": "aging-liability",
   "metadata": {},
   "outputs": [],
   "source": [
    "parsed = posts.filter(validate_post).map(lambda p: { k: schema[k](v) for (k, v) in etree.fromstring(p).items() if k in schema })"
   ]
  },
  {
   "cell_type": "code",
   "execution_count": 17,
   "id": "insured-settlement",
   "metadata": {},
   "outputs": [
    {
     "data": {
      "text/plain": [
       "['Eliciting priors from experts',\n",
       " 'What is normality?',\n",
       " 'What are some valuable Statistical Analysis open source projects?',\n",
       " 'Assessing the significance of differences in distributions',\n",
       " 'The Two Cultures: statistics vs. machine learning?',\n",
       " 'Locating freely available data samples',\n",
       " 'So how many staticians *does* it take to screw in a lightbulb?',\n",
       " 'Under what conditions should Likert scales be used as ordinal or interval data?',\n",
       " 'Multivariate Interpolation Approaches',\n",
       " 'How can I adapt ANOVA for binary data?',\n",
       " 'Forecasting demographic census',\n",
       " 'Bayesian and frequentist reasoning in plain English']"
      ]
     },
     "execution_count": 17,
     "metadata": {},
     "output_type": "execute_result"
    }
   ],
   "source": [
    "parsed.filter(lambda p: 'Title' in p).map(lambda p: p['Title']).take(12)"
   ]
  },
  {
   "cell_type": "code",
   "execution_count": 18,
   "id": "phantom-complement",
   "metadata": {},
   "outputs": [
    {
     "name": "stdout",
     "output_type": "stream",
     "text": [
      "(19) PythonRDD[7] at RDD at PythonRDD.scala:53 []\n",
      " |   data/Posts.xml MapPartitionsRDD[1] at textFile at NativeMethodAccessorImpl.java:0 []\n",
      " |   data/Posts.xml HadoopRDD[0] at textFile at NativeMethodAccessorImpl.java:0 []\n"
     ]
    }
   ],
   "source": [
    "print(parsed.toDebugString().decode('ascii'))"
   ]
  },
  {
   "cell_type": "code",
   "execution_count": 19,
   "id": "surrounded-contact",
   "metadata": {},
   "outputs": [
    {
     "data": {
      "text/plain": [
       "[{'Id': 1,\n",
       "  'PostTypeId': 1,\n",
       "  'AcceptedAnswerId': 15,\n",
       "  'CreationDate': datetime.datetime(2010, 7, 19, 19, 12, 12, 510000),\n",
       "  'Score': 48,\n",
       "  'ViewCount': 4280,\n",
       "  'Body': '<p>How should I elicit prior distributions from experts when fitting a Bayesian model?</p>\\n',\n",
       "  'OwnerUserId': 8,\n",
       "  'LastActivityDate': datetime.datetime(2020, 11, 5, 9, 44, 51, 710000),\n",
       "  'Title': 'Eliciting priors from experts',\n",
       "  'Tags': '<bayesian><prior><elicitation>',\n",
       "  'AnswerCount': 6,\n",
       "  'CommentCount': 1,\n",
       "  'FavoriteCount': 32,\n",
       "  'ContentLicense': 'CC BY-SA 2.5'}]"
      ]
     },
     "execution_count": 19,
     "metadata": {},
     "output_type": "execute_result"
    }
   ],
   "source": [
    "parsed.take(1)"
   ]
  },
  {
   "cell_type": "code",
   "execution_count": 20,
   "id": "persistent-tsunami",
   "metadata": {},
   "outputs": [
    {
     "data": {
      "text/plain": [
       "340838"
      ]
     },
     "execution_count": 20,
     "metadata": {},
     "output_type": "execute_result"
    }
   ],
   "source": [
    "parsed.count()"
   ]
  },
  {
   "cell_type": "code",
   "execution_count": 21,
   "id": "complicated-latest",
   "metadata": {},
   "outputs": [
    {
     "name": "stdout",
     "output_type": "stream",
     "text": [
      "CPU times: user 18.6 ms, sys: 13 ms, total: 31.5 ms\n",
      "Wall time: 20.9 s\n"
     ]
    },
    {
     "data": {
      "text/plain": [
       "340838"
      ]
     },
     "execution_count": 21,
     "metadata": {},
     "output_type": "execute_result"
    }
   ],
   "source": [
    "%%time\n",
    "parsed.count()"
   ]
  },
  {
   "cell_type": "code",
   "execution_count": 22,
   "id": "super-tournament",
   "metadata": {},
   "outputs": [
    {
     "data": {
      "text/plain": [
       "PythonRDD[7] at RDD at PythonRDD.scala:53"
      ]
     },
     "execution_count": 22,
     "metadata": {},
     "output_type": "execute_result"
    }
   ],
   "source": [
    "parsed.cache()"
   ]
  },
  {
   "cell_type": "code",
   "execution_count": 25,
   "id": "hindu-peripheral",
   "metadata": {},
   "outputs": [
    {
     "name": "stdout",
     "output_type": "stream",
     "text": [
      "(19) PythonRDD[7] at RDD at PythonRDD.scala:53 [Memory Serialized 1x Replicated]\n",
      " |        CachedPartitions: 19; MemorySize: 263.5 MiB; DiskSize: 0.0 B\n",
      " |   data/Posts.xml MapPartitionsRDD[1] at textFile at NativeMethodAccessorImpl.java:0 [Memory Serialized 1x Replicated]\n",
      " |   data/Posts.xml HadoopRDD[0] at textFile at NativeMethodAccessorImpl.java:0 [Memory Serialized 1x Replicated]\n"
     ]
    }
   ],
   "source": [
    "print(parsed.toDebugString().decode('ascii'))"
   ]
  },
  {
   "cell_type": "code",
   "execution_count": 30,
   "id": "copyrighted-gateway",
   "metadata": {},
   "outputs": [
    {
     "name": "stdout",
     "output_type": "stream",
     "text": [
      "CPU times: user 4.74 ms, sys: 11.9 ms, total: 16.6 ms\n",
      "Wall time: 1.41 s\n"
     ]
    },
    {
     "data": {
      "text/plain": [
       "340838"
      ]
     },
     "execution_count": 30,
     "metadata": {},
     "output_type": "execute_result"
    }
   ],
   "source": [
    "%%time\n",
    "parsed.count()"
   ]
  },
  {
   "cell_type": "code",
   "execution_count": 31,
   "id": "accredited-serve",
   "metadata": {},
   "outputs": [
    {
     "name": "stdout",
     "output_type": "stream",
     "text": [
      "(19) PythonRDD[7] at RDD at PythonRDD.scala:53 [Memory Serialized 1x Replicated]\n",
      " |        CachedPartitions: 19; MemorySize: 263.5 MiB; DiskSize: 0.0 B\n",
      " |   data/Posts.xml MapPartitionsRDD[1] at textFile at NativeMethodAccessorImpl.java:0 [Memory Serialized 1x Replicated]\n",
      " |   data/Posts.xml HadoopRDD[0] at textFile at NativeMethodAccessorImpl.java:0 [Memory Serialized 1x Replicated]\n"
     ]
    }
   ],
   "source": [
    "print(parsed.toDebugString().decode('ascii'))"
   ]
  },
  {
   "cell_type": "code",
   "execution_count": 32,
   "id": "liable-firmware",
   "metadata": {},
   "outputs": [
    {
     "name": "stdout",
     "output_type": "stream",
     "text": [
      "CPU times: user 7.19 ms, sys: 18.5 ms, total: 25.7 ms\n",
      "Wall time: 1.73 s\n"
     ]
    },
    {
     "data": {
      "text/plain": [
       "340838"
      ]
     },
     "execution_count": 32,
     "metadata": {},
     "output_type": "execute_result"
    }
   ],
   "source": [
    "%%time\n",
    "parsed.count()"
   ]
  },
  {
   "cell_type": "code",
   "execution_count": 33,
   "id": "comparable-impossible",
   "metadata": {},
   "outputs": [],
   "source": [
    "from pyspark.sql import SparkSession\n",
    "\n",
    "spark = SparkSession.builder.getOrCreate()"
   ]
  },
  {
   "cell_type": "code",
   "execution_count": 34,
   "id": "detailed-invalid",
   "metadata": {},
   "outputs": [
    {
     "data": {
      "text/html": [
       "\n",
       "            <div>\n",
       "                <p><b>SparkSession - in-memory</b></p>\n",
       "                \n",
       "        <div>\n",
       "            <p><b>SparkContext</b></p>\n",
       "\n",
       "            <p><a href=\"http://57be72246511:4041\">Spark UI</a></p>\n",
       "\n",
       "            <dl>\n",
       "              <dt>Version</dt>\n",
       "                <dd><code>v3.1.1</code></dd>\n",
       "              <dt>Master</dt>\n",
       "                <dd><code>local[*]</code></dd>\n",
       "              <dt>AppName</dt>\n",
       "                <dd><code>pyspark-shell</code></dd>\n",
       "            </dl>\n",
       "        </div>\n",
       "        \n",
       "            </div>\n",
       "        "
      ],
      "text/plain": [
       "<pyspark.sql.session.SparkSession at 0x7fa2c6943250>"
      ]
     },
     "execution_count": 34,
     "metadata": {},
     "output_type": "execute_result"
    }
   ],
   "source": [
    "spark"
   ]
  },
  {
   "cell_type": "code",
   "execution_count": 35,
   "id": "loaded-condition",
   "metadata": {},
   "outputs": [
    {
     "data": {
      "text/plain": [
       "PythonRDD[7] at RDD at PythonRDD.scala:53"
      ]
     },
     "execution_count": 35,
     "metadata": {},
     "output_type": "execute_result"
    }
   ],
   "source": [
    "parsed"
   ]
  },
  {
   "cell_type": "code",
   "execution_count": 41,
   "id": "saving-hearts",
   "metadata": {},
   "outputs": [],
   "source": [
    "# Can create a data frame from a RDD, Hive table, or Spark data source\n",
    "df = spark.createDataFrame(parsed)"
   ]
  },
  {
   "cell_type": "code",
   "execution_count": null,
   "id": "supported-moscow",
   "metadata": {},
   "outputs": [],
   "source": [
    "df.write.orc('data/dataframe.orc')"
   ]
  },
  {
   "cell_type": "code",
   "execution_count": 40,
   "id": "simplified-choice",
   "metadata": {},
   "outputs": [],
   "source": [
    "orc = spark.read.orc('data/dataframe.orc')"
   ]
  },
  {
   "cell_type": "code",
   "execution_count": 43,
   "id": "consecutive-manitoba",
   "metadata": {},
   "outputs": [
    {
     "data": {
      "text/plain": [
       "['AcceptedAnswerId',\n",
       " 'AnswerCount',\n",
       " 'Body',\n",
       " 'CommentCount',\n",
       " 'ContentLicense',\n",
       " 'CreationDate',\n",
       " 'FavoriteCount',\n",
       " 'Id',\n",
       " 'LastActivityDate',\n",
       " 'OwnerUserId',\n",
       " 'PostTypeId',\n",
       " 'Score',\n",
       " 'Tags',\n",
       " 'Title',\n",
       " 'ViewCount']"
      ]
     },
     "execution_count": 43,
     "metadata": {},
     "output_type": "execute_result"
    }
   ],
   "source": [
    "df.columns"
   ]
  },
  {
   "cell_type": "code",
   "execution_count": 45,
   "id": "informative-boring",
   "metadata": {},
   "outputs": [
    {
     "name": "stdout",
     "output_type": "stream",
     "text": [
      "+--------------------+--------------------+-----+----------------+\n",
      "|               Title|                Body|Score|AcceptedAnswerId|\n",
      "+--------------------+--------------------+-----+----------------+\n",
      "|Eliciting priors ...|<p>How should I e...|   48|              15|\n",
      "|  What is normality?|<p>In many differ...|   34|              59|\n",
      "|What are some val...|<p>What are some ...|   71|               5|\n",
      "|Assessing the sig...|<p>I have two gro...|   23|             135|\n",
      "|                null|<p>The R-project<...|   90|            null|\n",
      "|The Two Cultures:...|<p>Last year, I r...|  458|            null|\n",
      "|Locating freely a...|<p>I've been work...|  102|              18|\n",
      "|So how many stati...|<p>Sorry, but the...|    0|            null|\n",
      "|                null|<p><a href=\"http:...|   14|            null|\n",
      "|Under what condit...|<p>Many studies i...|   57|            1887|\n",
      "|Multivariate Inte...|<p>Is there a goo...|    4|            1201|\n",
      "|                null|<p>See my respons...|   24|            null|\n",
      "|                null|<p>Machine Learni...|   26|            null|\n",
      "|                null|<p>I second that ...|    6|            null|\n",
      "|                null|<p>John Cook give...|   21|            null|\n",
      "|                null|<p>Two projects s...|   17|            null|\n",
      "|How can I adapt A...|<p>I have four co...|   12|              29|\n",
      "|                null|<p>Also see the U...|   42|            null|\n",
      "|                null|<p><a href=\"http:...|   16|            null|\n",
      "|                null|<p>The assumption...|    3|            null|\n",
      "|Forecasting demog...|<p>What are some ...|    5|            null|\n",
      "|Bayesian and freq...|<p>How would you ...|  389|            null|\n",
      "|Finding the PDF g...|<p>How can I find...|   24|              91|\n",
      "|                null|<p>For doing a va...|   22|            null|\n",
      "|Tools for modelin...|<p>What modern to...|   10|              32|\n",
      "|What is a standar...|<p>What is a stan...|   32|              61|\n",
      "|                null|<p><a href=\"http:...|    7|            null|\n",
      "|                null|<p>Contingency ta...|    8|            null|\n",
      "|Testing random va...|<p>Which methods ...|   12|              55|\n",
      "|What is the meani...|<p>After taking a...|  268|            null|\n",
      "|                null|<p>I recommend R ...|   16|            null|\n",
      "|R packages for se...|<p>What R package...|    5|              49|\n",
      "|Modelling a Poiss...|<p>I have a data ...|   16|              72|\n",
      "|Examples for teac...|<p>There is an ol...|   78|            null|\n",
      "|                null|<p>If your mean v...|    4|            null|\n",
      "|Sample problems o...|<p>I'm looking fo...|    6|             721|\n",
      "|Pseudo-random num...|<p>What algorithm...|   12|             111|\n",
      "|                null|<p>A quote from <...|   10|            null|\n",
      "|                null|<p><a href=\"http:...|   15|            null|\n",
      "|                null|<p>R is great, bu...|    7|            null|\n",
      "|Explain data visu...|<p>How would you ...|    9|              89|\n",
      "|                null|<p>The <a href=\"h...|    6|            null|\n",
      "|                null|<p>A standard dev...|    0|            null|\n",
      "|Clustering of lar...|<p>I have a datas...|    8|             268|\n",
      "|                null|<p>You don't need...|    7|            null|\n",
      "|What is meant by ...|<p>What do they m...|   80|              85|\n",
      "|Measuring the eff...|<p>Are there any ...|    5|              64|\n",
      "|                null|<p>Usually one (p...|   11|            null|\n",
      "|PCA on correlatio...|<p>What are the m...|  174|              78|\n",
      "|Why do US and UK ...|<p>As I understan...|   18|              65|\n",
      "|                null|<p>The <a href=\"h...|    9|            null|\n",
      "|                null|<p>Here is how I ...|  236|            null|\n",
      "|                null|<p>From <a href=\"...|    4|            null|\n",
      "|Can someone pleas...|<p>What is the ba...|   13|            6988|\n",
      "|                null|<p>The assumption...|   30|            null|\n",
      "|                null|<p><a href=\"http:...|    1|            null|\n",
      "|                null|<p>Standard devia...|   31|            null|\n",
      "|A case of survivo...|<p>With the recen...|    7|              80|\n",
      "|                null|<p>It might be us...|   41|            null|\n",
      "|                null|<p>Yes, there are...|    8|            null|\n",
      "|                null|<p>The first form...|   19|            null|\n",
      "|                null|<p>This is <a hre...|    6|            null|\n",
      "|                null|<p>From <a href=\"...|    2|            null|\n",
      "|                null|<p>Since N is the...|    3|            null|\n",
      "|                null|<p><a href=\"http:...|   19|            null|\n",
      "|                null|<p>It's an algori...|    3|            null|\n",
      "|                null|<p>for overdisper...|   11|            null|\n",
      "|What R packages d...|<p><strong>Duplic...|   28|          104362|\n",
      "|                null|<p>In such a disc...|   73|            null|\n",
      "|Where can I find ...|<p>I'm using <a h...|    5|              94|\n",
      "|                null|<p>I use <a href=...|   23|            null|\n",
      "|                null|<ol>\n",
      "<li><p>Somet...|   27|            null|\n",
      "|                null|<p><strong>You te...|  148|            null|\n",
      "|                null|<p>I am not sure ...|    5|            null|\n",
      "|                null|<p>The basic idea...|   11|            null|\n",
      "|                null|<p>I use the <str...|    8|            null|\n",
      "|                null|<p>R is designed ...|    2|            null|\n",
      "|                null|<p>I would explai...|    6|            null|\n",
      "|                null|<p>A random varia...|   41|            null|\n",
      "|                null|<p>Unlike a regul...|   14|            null|\n",
      "|                null|<p>When I teach v...|    6|            null|\n",
      "|                null|<p><a href=\"http:...|    4|            null|\n",
      "|                null|<p>As user28 said...|   25|            null|\n",
      "|Robust nonparamet...|<p>We're trying t...|    7|            null|\n",
      "|                null|<p>Quick R site i...|    5|            null|\n",
      "|How Large a Diffe...|<p>I have been us...|    7|            null|\n",
      "|                null|<p>Another great ...|    4|            null|\n",
      "|What are good bas...|<p>I have some <a...|   69|             104|\n",
      "|                null|<p>Eliciting prio...|   19|            null|\n",
      "|                null|<p><a href=\"http:...|    8|            null|\n",
      "|What's the purpos...|<p>I'd like to se...|    6|             110|\n",
      "|                null|<h2>Understanding...|  165|            null|\n",
      "|                null|<p>For me <a href...|    2|            null|\n",
      "|What is your favo...|<p>What is the be...|   48|            null|\n",
      "|                null|<p>A frequency ta...|   29|            null|\n",
      "|                null|<p><a href=\"http:...|   19|            null|\n",
      "|                null|<p><a href=\"http:...|   11|            null|\n",
      "|                null|<p><a href=\"http:...|   17|            null|\n",
      "|Power of Holm's m...|<p>Following one-...|    5|            null|\n",
      "|                null|<p>It depends on ...|    5|            null|\n",
      "+--------------------+--------------------+-----+----------------+\n",
      "only showing top 100 rows\n",
      "\n"
     ]
    }
   ],
   "source": [
    "df.select('Title', 'Body', 'Score', 'AcceptedAnswerId').show(100)"
   ]
  },
  {
   "cell_type": "code",
   "execution_count": 46,
   "id": "discrete-integral",
   "metadata": {},
   "outputs": [
    {
     "name": "stdout",
     "output_type": "stream",
     "text": [
      "root\n",
      " |-- AcceptedAnswerId: long (nullable = true)\n",
      " |-- AnswerCount: long (nullable = true)\n",
      " |-- Body: string (nullable = true)\n",
      " |-- CommentCount: long (nullable = true)\n",
      " |-- ContentLicense: string (nullable = true)\n",
      " |-- CreationDate: timestamp (nullable = true)\n",
      " |-- FavoriteCount: long (nullable = true)\n",
      " |-- Id: long (nullable = true)\n",
      " |-- LastActivityDate: timestamp (nullable = true)\n",
      " |-- OwnerUserId: long (nullable = true)\n",
      " |-- PostTypeId: long (nullable = true)\n",
      " |-- Score: long (nullable = true)\n",
      " |-- Tags: string (nullable = true)\n",
      " |-- Title: string (nullable = true)\n",
      " |-- ViewCount: long (nullable = true)\n",
      "\n"
     ]
    }
   ],
   "source": [
    "df.printSchema()"
   ]
  },
  {
   "cell_type": "code",
   "execution_count": 47,
   "id": "tired-assignment",
   "metadata": {},
   "outputs": [
    {
     "data": {
      "text/plain": [
       "[Row(AcceptedAnswerId=15, AnswerCount=6, Body='<p>How should I elicit prior distributions from experts when fitting a Bayesian model?</p>\\n', CommentCount=1, ContentLicense='CC BY-SA 2.5', CreationDate=datetime.datetime(2010, 7, 19, 19, 12, 12, 510000), FavoriteCount=32, Id=1, LastActivityDate=datetime.datetime(2020, 11, 5, 9, 44, 51, 710000), OwnerUserId=8, PostTypeId=1, Score=48, Tags='<bayesian><prior><elicitation>', Title='Eliciting priors from experts', ViewCount=4280),\n",
       " Row(AcceptedAnswerId=59, AnswerCount=7, Body='<p>In many different statistical methods there is an \"assumption of normality\".  What is \"normality\" and how do I know if there is normality?</p>\\n', CommentCount=1, ContentLicense='CC BY-SA 2.5', CreationDate=datetime.datetime(2010, 7, 19, 19, 12, 57, 157000), FavoriteCount=11, Id=2, LastActivityDate=datetime.datetime(2017, 11, 22, 12, 15, 7, 30000), OwnerUserId=24, PostTypeId=1, Score=34, Tags='<distributions><normality-assumption>', Title='What is normality?', ViewCount=32048),\n",
       " Row(AcceptedAnswerId=5, AnswerCount=19, Body='<p>What are some valuable Statistical Analysis open source projects available right now?</p>\\n\\n<p>Edit: as pointed out by Sharpie, valuable could mean helping you get things done faster or more cheaply.</p>\\n', CommentCount=3, ContentLicense='CC BY-SA 2.5', CreationDate=datetime.datetime(2010, 7, 19, 19, 13, 28, 577000), FavoriteCount=39, Id=3, LastActivityDate=datetime.datetime(2013, 5, 27, 14, 48, 36, 927000), OwnerUserId=18, PostTypeId=1, Score=71, Tags='<software><open-source>', Title='What are some valuable Statistical Analysis open source projects?', ViewCount=6373)]"
      ]
     },
     "execution_count": 47,
     "metadata": {},
     "output_type": "execute_result"
    }
   ],
   "source": [
    "df.head(3)"
   ]
  },
  {
   "cell_type": "code",
   "execution_count": 48,
   "id": "heavy-trauma",
   "metadata": {},
   "outputs": [
    {
     "data": {
      "text/plain": [
       "[Row(AcceptedAnswerId=None, AnswerCount=0, Body=\"<p>I'm looking for an example of a Python implementation of the Terry-Hoeffding Normal Scores test. I have found other similar tests, but not this one.</p>\\n\", CommentCount=0, ContentLicense='CC BY-SA 4.0', CreationDate=datetime.datetime(2020, 12, 6, 4, 0, 57, 727000), FavoriteCount=None, Id=499531, LastActivityDate=datetime.datetime(2020, 12, 6, 4, 0, 57, 727000), OwnerUserId=304629, PostTypeId=1, Score=0, Tags='<python>', Title='Python Terry-Hoeffding Test', ViewCount=3),\n",
       " Row(AcceptedAnswerId=None, AnswerCount=0, Body='<p>I am attending a course on &quot;Introduction to Machine Learning&quot; where a large portion of this course to my surprise has <strong>probabilistic</strong> approach to machine learning. Like Probabilistic Approach to Linear and logistic regression and thereby trying to find the optimal weights using MLE, MAP or Bayesian. But I am not able to understand what is its importance? We can do all this using non-probabilistic approach as well. My instructor only told me that &quot;With probabilistic view, we got more info about the data&quot;, which I understand, that for each point rather than claiming something true or false directly we are taking into count the probability, which gives us a continuous value and describe <strong>to what extent that value is really useful</strong>. But apart from this, what are the advantages of probabilistic machine learning, and what can serve as a motivation for such viewpoints?</p>\\n', CommentCount=0, ContentLicense='CC BY-SA 4.0', CreationDate=datetime.datetime(2020, 12, 6, 4, 47, 35, 933000), FavoriteCount=None, Id=499532, LastActivityDate=datetime.datetime(2020, 12, 6, 4, 47, 35, 933000), OwnerUserId=239789, PostTypeId=1, Score=0, Tags='<regression><machine-learning><probability>', Title='What is the importance of probabilistic Machine Learning?', ViewCount=3),\n",
       " Row(AcceptedAnswerId=None, AnswerCount=0, Body='<p>Suppose X1 and X2 are independent. Both have Bernoulli distribution, equal to one with probability 0.5. What is the probability distribution of the product X1X2? What is the covariance between X1 and X1X2?</p>\\n<p>I am a beginner at statistics and quite confused by these conceptions. Would you please offer some guidance? Thank you!</p>\\n', CommentCount=0, ContentLicense='CC BY-SA 4.0', CreationDate=datetime.datetime(2020, 12, 6, 4, 50, 35, 657000), FavoriteCount=None, Id=499533, LastActivityDate=datetime.datetime(2020, 12, 6, 4, 50, 35, 657000), OwnerUserId=304630, PostTypeId=1, Score=0, Tags='<regression><probability><mathematical-statistics>', Title='Probability for Bernoulli distribution', ViewCount=5)]"
      ]
     },
     "execution_count": 48,
     "metadata": {},
     "output_type": "execute_result"
    }
   ],
   "source": [
    "df.tail(3)"
   ]
  },
  {
   "cell_type": "code",
   "execution_count": 57,
   "id": "great-fraud",
   "metadata": {},
   "outputs": [
    {
     "name": "stdout",
     "output_type": "stream",
     "text": [
      "+---+--------------------+\n",
      "| Id|                Body|\n",
      "+---+--------------------+\n",
      "|  1|<p>How should I e...|\n",
      "|  2|<p>In many differ...|\n",
      "|  3|<p>What are some ...|\n",
      "|  4|<p>I have two gro...|\n",
      "|  5|<p>The R-project<...|\n",
      "|  6|<p>Last year, I r...|\n",
      "|  7|<p>I've been work...|\n",
      "|  8|<p>Sorry, but the...|\n",
      "|  9|<p><a href=\"http:...|\n",
      "| 10|<p>Many studies i...|\n",
      "| 11|<p>Is there a goo...|\n",
      "| 12|<p>See my respons...|\n",
      "| 13|<p>Machine Learni...|\n",
      "| 14|<p>I second that ...|\n",
      "| 15|<p>John Cook give...|\n",
      "| 16|<p>Two projects s...|\n",
      "| 17|<p>I have four co...|\n",
      "| 18|<p>Also see the U...|\n",
      "| 19|<p><a href=\"http:...|\n",
      "| 20|<p>The assumption...|\n",
      "+---+--------------------+\n",
      "only showing top 20 rows\n",
      "\n"
     ]
    }
   ],
   "source": [
    "df.select('Id', 'Body').show()"
   ]
  },
  {
   "cell_type": "code",
   "execution_count": 58,
   "id": "random-foundation",
   "metadata": {},
   "outputs": [],
   "source": [
    "sample = df.sample(fraction=0.01)"
   ]
  },
  {
   "cell_type": "code",
   "execution_count": 59,
   "id": "brutal-texas",
   "metadata": {},
   "outputs": [
    {
     "name": "stdout",
     "output_type": "stream",
     "text": [
      "+----+--------------------+\n",
      "|  Id|                Body|\n",
      "+----+--------------------+\n",
      "|  24|<p>For doing a va...|\n",
      "| 351|<p><a href=\"http:...|\n",
      "| 387|<p>The following ...|\n",
      "| 477|<p>I assume your ...|\n",
      "| 485|<p>A question pre...|\n",
      "| 554|<p>I like to demo...|\n",
      "| 559|<p>The general id...|\n",
      "|1061|<pre><code>&gt; -...|\n",
      "|1084|<p>I'm trying to ...|\n",
      "|1093|<p>I'm looking fo...|\n",
      "|1119|<p>In addition to...|\n",
      "|1255|<p>I'm confused: ...|\n",
      "|1352|<p>In an average ...|\n",
      "|1374|<p>How many stati...|\n",
      "|1376|<p>I am looking f...|\n",
      "|1392|<p>It means that ...|\n",
      "|1396|<p>You can probab...|\n",
      "|1631|<p>A z-table give...|\n",
      "|1639|<p>The t-test wit...|\n",
      "|1862|<p>I've been stru...|\n",
      "+----+--------------------+\n",
      "only showing top 20 rows\n",
      "\n"
     ]
    }
   ],
   "source": [
    "sample.select('Id', 'Body').show()"
   ]
  },
  {
   "cell_type": "code",
   "execution_count": 60,
   "id": "emotional-christian",
   "metadata": {},
   "outputs": [],
   "source": [
    "pd_df = sample.toPandas()"
   ]
  },
  {
   "cell_type": "code",
   "execution_count": 51,
   "id": "adult-release",
   "metadata": {},
   "outputs": [
    {
     "data": {
      "text/plain": [
       "pandas.core.frame.DataFrame"
      ]
     },
     "execution_count": 51,
     "metadata": {},
     "output_type": "execute_result"
    }
   ],
   "source": [
    "type(pd_df)"
   ]
  },
  {
   "cell_type": "code",
   "execution_count": 54,
   "id": "apart-cleanup",
   "metadata": {},
   "outputs": [
    {
     "data": {
      "text/html": [
       "<div>\n",
       "<style scoped>\n",
       "    .dataframe tbody tr th:only-of-type {\n",
       "        vertical-align: middle;\n",
       "    }\n",
       "\n",
       "    .dataframe tbody tr th {\n",
       "        vertical-align: top;\n",
       "    }\n",
       "\n",
       "    .dataframe thead th {\n",
       "        text-align: right;\n",
       "    }\n",
       "</style>\n",
       "<table border=\"1\" class=\"dataframe\">\n",
       "  <thead>\n",
       "    <tr style=\"text-align: right;\">\n",
       "      <th></th>\n",
       "      <th>AcceptedAnswerId</th>\n",
       "      <th>AnswerCount</th>\n",
       "      <th>CommentCount</th>\n",
       "      <th>FavoriteCount</th>\n",
       "      <th>Id</th>\n",
       "      <th>OwnerUserId</th>\n",
       "      <th>PostTypeId</th>\n",
       "      <th>Score</th>\n",
       "      <th>ViewCount</th>\n",
       "    </tr>\n",
       "  </thead>\n",
       "  <tbody>\n",
       "    <tr>\n",
       "      <th>count</th>\n",
       "      <td>570.000000</td>\n",
       "      <td>1745.000000</td>\n",
       "      <td>3429.000000</td>\n",
       "      <td>558.000000</td>\n",
       "      <td>3429.000000</td>\n",
       "      <td>3384.000000</td>\n",
       "      <td>3429.000000</td>\n",
       "      <td>3429.000000</td>\n",
       "      <td>1745.000000</td>\n",
       "    </tr>\n",
       "    <tr>\n",
       "      <th>mean</th>\n",
       "      <td>235758.105263</td>\n",
       "      <td>0.984527</td>\n",
       "      <td>1.812773</td>\n",
       "      <td>4.261649</td>\n",
       "      <td>249908.493438</td>\n",
       "      <td>93460.004728</td>\n",
       "      <td>1.509186</td>\n",
       "      <td>3.183727</td>\n",
       "      <td>1907.010888</td>\n",
       "    </tr>\n",
       "    <tr>\n",
       "      <th>std</th>\n",
       "      <td>147710.933571</td>\n",
       "      <td>1.203631</td>\n",
       "      <td>2.687203</td>\n",
       "      <td>22.388755</td>\n",
       "      <td>150012.888632</td>\n",
       "      <td>87751.697728</td>\n",
       "      <td>0.561545</td>\n",
       "      <td>13.170149</td>\n",
       "      <td>13722.609608</td>\n",
       "    </tr>\n",
       "    <tr>\n",
       "      <th>min</th>\n",
       "      <td>858.000000</td>\n",
       "      <td>0.000000</td>\n",
       "      <td>0.000000</td>\n",
       "      <td>0.000000</td>\n",
       "      <td>36.000000</td>\n",
       "      <td>-1.000000</td>\n",
       "      <td>1.000000</td>\n",
       "      <td>-9.000000</td>\n",
       "      <td>3.000000</td>\n",
       "    </tr>\n",
       "    <tr>\n",
       "      <th>25%</th>\n",
       "      <td>99660.500000</td>\n",
       "      <td>0.000000</td>\n",
       "      <td>0.000000</td>\n",
       "      <td>1.000000</td>\n",
       "      <td>116020.000000</td>\n",
       "      <td>14076.000000</td>\n",
       "      <td>1.000000</td>\n",
       "      <td>1.000000</td>\n",
       "      <td>54.000000</td>\n",
       "    </tr>\n",
       "    <tr>\n",
       "      <th>50%</th>\n",
       "      <td>231870.500000</td>\n",
       "      <td>1.000000</td>\n",
       "      <td>1.000000</td>\n",
       "      <td>1.000000</td>\n",
       "      <td>251161.000000</td>\n",
       "      <td>66379.000000</td>\n",
       "      <td>1.000000</td>\n",
       "      <td>1.000000</td>\n",
       "      <td>179.000000</td>\n",
       "    </tr>\n",
       "    <tr>\n",
       "      <th>75%</th>\n",
       "      <td>364145.250000</td>\n",
       "      <td>1.000000</td>\n",
       "      <td>3.000000</td>\n",
       "      <td>3.000000</td>\n",
       "      <td>383542.000000</td>\n",
       "      <td>158387.750000</td>\n",
       "      <td>2.000000</td>\n",
       "      <td>3.000000</td>\n",
       "      <td>807.000000</td>\n",
       "    </tr>\n",
       "    <tr>\n",
       "      <th>max</th>\n",
       "      <td>498470.000000</td>\n",
       "      <td>28.000000</td>\n",
       "      <td>28.000000</td>\n",
       "      <td>465.000000</td>\n",
       "      <td>499466.000000</td>\n",
       "      <td>304580.000000</td>\n",
       "      <td>5.000000</td>\n",
       "      <td>551.000000</td>\n",
       "      <td>361060.000000</td>\n",
       "    </tr>\n",
       "  </tbody>\n",
       "</table>\n",
       "</div>"
      ],
      "text/plain": [
       "       AcceptedAnswerId  AnswerCount  CommentCount  FavoriteCount  \\\n",
       "count        570.000000  1745.000000   3429.000000     558.000000   \n",
       "mean      235758.105263     0.984527      1.812773       4.261649   \n",
       "std       147710.933571     1.203631      2.687203      22.388755   \n",
       "min          858.000000     0.000000      0.000000       0.000000   \n",
       "25%        99660.500000     0.000000      0.000000       1.000000   \n",
       "50%       231870.500000     1.000000      1.000000       1.000000   \n",
       "75%       364145.250000     1.000000      3.000000       3.000000   \n",
       "max       498470.000000    28.000000     28.000000     465.000000   \n",
       "\n",
       "                  Id    OwnerUserId   PostTypeId        Score      ViewCount  \n",
       "count    3429.000000    3384.000000  3429.000000  3429.000000    1745.000000  \n",
       "mean   249908.493438   93460.004728     1.509186     3.183727    1907.010888  \n",
       "std    150012.888632   87751.697728     0.561545    13.170149   13722.609608  \n",
       "min        36.000000      -1.000000     1.000000    -9.000000       3.000000  \n",
       "25%    116020.000000   14076.000000     1.000000     1.000000      54.000000  \n",
       "50%    251161.000000   66379.000000     1.000000     1.000000     179.000000  \n",
       "75%    383542.000000  158387.750000     2.000000     3.000000     807.000000  \n",
       "max    499466.000000  304580.000000     5.000000   551.000000  361060.000000  "
      ]
     },
     "execution_count": 54,
     "metadata": {},
     "output_type": "execute_result"
    }
   ],
   "source": [
    "pd_df.describe()"
   ]
  },
  {
   "cell_type": "markdown",
   "id": "answering-hampshire",
   "metadata": {},
   "source": [
    "## EDA\n",
    "\n",
    "1. How many records in total are there?\n",
    "2. How many uniques values does each column contain?\n",
    "3. How many missing (or null) values are there?\n",
    "4. For numeric columns, what are its summary statistics\n",
    "5. What are values appear most often in each column?\n",
    "6. How are the values of each column distributed?"
   ]
  },
  {
   "cell_type": "code",
   "execution_count": null,
   "id": "polyphonic-entity",
   "metadata": {},
   "outputs": [],
   "source": [
    "# https://spark.apache.org/docs/latest/api/python/pyspark.sql.html#pyspark.sql.DataFrame\n",
    "df.count()"
   ]
  },
  {
   "cell_type": "code",
   "execution_count": null,
   "id": "intimate-cursor",
   "metadata": {},
   "outputs": [],
   "source": [
    "df.createOrReplaceTempView(\"posts\")"
   ]
  },
  {
   "cell_type": "code",
   "execution_count": null,
   "id": "interim-rocket",
   "metadata": {},
   "outputs": [],
   "source": [
    "# https://spark.apache.org/docs/latest/sql-ref-functions.html\n",
    "spark.sql(\"SELECT DISTINCT ContentLicense FROM posts\").show()"
   ]
  },
  {
   "cell_type": "code",
   "execution_count": null,
   "id": "greater-somalia",
   "metadata": {},
   "outputs": [],
   "source": [
    "spark.sql(\"SELECT count_if(Title IS NULL) FROM posts\").show()"
   ]
  },
  {
   "cell_type": "code",
   "execution_count": null,
   "id": "raising-vampire",
   "metadata": {},
   "outputs": [],
   "source": [
    "df.select('Title', 'Body').show(6)"
   ]
  },
  {
   "cell_type": "code",
   "execution_count": null,
   "id": "metropolitan-contractor",
   "metadata": {},
   "outputs": [],
   "source": [
    "df.na.drop(how='all').select('Title', 'Body').show(5)"
   ]
  },
  {
   "cell_type": "code",
   "execution_count": null,
   "id": "latin-credit",
   "metadata": {},
   "outputs": [],
   "source": [
    "df.na.drop(subset=['Title']).select('Title', 'Body').show(5)"
   ]
  },
  {
   "cell_type": "code",
   "execution_count": null,
   "id": "swedish-texas",
   "metadata": {},
   "outputs": [],
   "source": [
    "df.na.fill({'Title': '# Needs Title', 'Body': ''}).select('Title', 'Body').show()"
   ]
  },
  {
   "cell_type": "code",
   "execution_count": null,
   "id": "heard-drill",
   "metadata": {},
   "outputs": [],
   "source": [
    "df.sort(df.Score.desc()).limit(10).show()"
   ]
  },
  {
   "cell_type": "code",
   "execution_count": null,
   "id": "aware-provincial",
   "metadata": {},
   "outputs": [],
   "source": [
    "df.summary?"
   ]
  },
  {
   "cell_type": "code",
   "execution_count": null,
   "id": "contrary-anaheim",
   "metadata": {},
   "outputs": [],
   "source": [
    "df.describe(['AcceptedAnswerId', 'Score', 'ViewCount']).show()"
   ]
  },
  {
   "cell_type": "code",
   "execution_count": null,
   "id": "seventh-sister",
   "metadata": {},
   "outputs": [],
   "source": [
    "df.freqItems(['OwnerUserId', 'Tags'], support=.1).show(truncate=74, vertical=True)"
   ]
  },
  {
   "cell_type": "code",
   "execution_count": null,
   "id": "vulnerable-tobacco",
   "metadata": {},
   "outputs": [],
   "source": [
    "df.approxQuantile('Score', [0.0, 0.1, 0.2, 0.3, 0.4, 0.5, 0.6, 0.7, 0.8, 0.9, 1.0], .1)"
   ]
  },
  {
   "cell_type": "code",
   "execution_count": null,
   "id": "perceived-bennett",
   "metadata": {},
   "outputs": [],
   "source": [
    "df.corr('Score', 'ViewCount')"
   ]
  },
  {
   "cell_type": "code",
   "execution_count": null,
   "id": "grateful-organization",
   "metadata": {},
   "outputs": [],
   "source": [
    "df.groupby('Score').count().show()"
   ]
  },
  {
   "cell_type": "code",
   "execution_count": null,
   "id": "relative-lending",
   "metadata": {},
   "outputs": [],
   "source": [
    "df.groupby('Score').count().sort('Score').show()"
   ]
  },
  {
   "cell_type": "code",
   "execution_count": null,
   "id": "cloudy-secretariat",
   "metadata": {},
   "outputs": [],
   "source": [
    "pandas_df = df.groupby('Score').count().sort('Score').toPandas()"
   ]
  },
  {
   "cell_type": "code",
   "execution_count": null,
   "id": "southern-hopkins",
   "metadata": {},
   "outputs": [],
   "source": [
    "# do some scikit-learn or pytorch"
   ]
  },
  {
   "cell_type": "code",
   "execution_count": null,
   "id": "desperate-vector",
   "metadata": {},
   "outputs": [],
   "source": [
    "pandas_df.plot()"
   ]
  },
  {
   "cell_type": "code",
   "execution_count": null,
   "id": "interim-strip",
   "metadata": {},
   "outputs": [],
   "source": [
    "pandas_df[pandas_df['Score'] < 30].plot()"
   ]
  },
  {
   "cell_type": "code",
   "execution_count": null,
   "id": "motivated-neighborhood",
   "metadata": {},
   "outputs": [],
   "source": []
  }
 ],
 "metadata": {
  "kernelspec": {
   "display_name": "Python 3",
   "language": "python",
   "name": "python3"
  },
  "language_info": {
   "codemirror_mode": {
    "name": "ipython",
    "version": 3
   },
   "file_extension": ".py",
   "mimetype": "text/x-python",
   "name": "python",
   "nbconvert_exporter": "python",
   "pygments_lexer": "ipython3",
   "version": "3.8.8"
  }
 },
 "nbformat": 4,
 "nbformat_minor": 5
}
